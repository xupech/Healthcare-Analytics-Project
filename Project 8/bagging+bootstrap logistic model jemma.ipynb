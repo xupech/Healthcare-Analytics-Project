{
 "cells": [
  {
   "cell_type": "markdown",
   "metadata": {},
   "source": [
    "## bagging+bootstrap logistic model"
   ]
  },
  {
   "cell_type": "code",
   "execution_count": 2,
   "metadata": {},
   "outputs": [],
   "source": [
    "import numpy as np\n",
    "import pandas as pd\n",
    "import warnings\n",
    "warnings.filterwarnings('ignore')\n",
    "from functools import reduce\n",
    "from sklearn.metrics import confusion_matrix, accuracy_score, f1_score, classification_report\n",
    "from sklearn.tree import DecisionTreeClassifier\n",
    "from sklearn.model_selection import train_test_split\n",
    "from sklearn.linear_model import LogisticRegression"
   ]
  },
  {
   "cell_type": "code",
   "execution_count": 3,
   "metadata": {},
   "outputs": [],
   "source": [
    "df = pd.read_csv('/Users/jemma/Downloads/final result.csv')\n",
    "df = df[df.columns[2:-1].to_list()]\n",
    "X = df[df.columns[1:]].values\n",
    "y = df['Mortality (1= death)'].values\n",
    "X_train, X_test, y_train, y_test = train_test_split(X, y, test_size=0.25, random_state=0)"
   ]
  },
  {
   "cell_type": "code",
   "execution_count": 4,
   "metadata": {},
   "outputs": [],
   "source": [
    "class LogisticRegressionClassifier:\n",
    "\n",
    "    def __init__(self, n=100):\n",
    "        self.n = n\n",
    "\n",
    "    def fit(self, X, y, random_state=42, criterion='entropy'):\n",
    "        X_train_p = X[y==1]\n",
    "        X_train_n = X[y==0]\n",
    "        y_train_p = y[y==1]\n",
    "        y_train_n = y[y==0]\n",
    "        l = sum(y_train_p)\n",
    "        clf_list = []\n",
    "        np.random.seed(seed=random_state)\n",
    "        for i in range(self.n):\n",
    "            idx_n = np.random.choice(range(X_train_n.shape[0]), l)\n",
    "            idx_p = np.random.choice(range(X_train_p.shape[0]), l)\n",
    "            X_train_f = np.concatenate([X_train_n[idx_n, :], X_train_p[idx_p]])\n",
    "            y_train_f = np.concatenate([y_train_n[idx_n], y_train_p[idx_p]])\n",
    "            clf = LogisticRegression()\n",
    "            clf.fit(X_train_f, y_train_f)\n",
    "            clf_list.append(clf)\n",
    "            print(f'\\rClassifier {i+1} completed.', end='')\n",
    "        self.clfs = clf_list        \n",
    "    \n",
    "    def coefficients(self):\n",
    "        feature_importance = abs(self.clfs[0].coef_)\n",
    "        for tree in self.clfs[1:]:\n",
    "            feature_importance += tree.coef_\n",
    "        return feature_importance/ self.n\n",
    "    \n",
    "    def predict(self, X):\n",
    "        result_list = list(map(lambda clf: clf.predict_proba(X)[:,1], self.clfs))\n",
    "        score = reduce(lambda a, b: a+b, result_list) / len(self.clfs)\n",
    "        return score\n",
    "        \n",
    "    def report(self, X, y):\n",
    "        y_hat = self.predict(X)\n",
    "        print(classification_report(y_test, 1.*(y_hat>0.5)))"
   ]
  },
  {
   "cell_type": "code",
   "execution_count": 5,
   "metadata": {},
   "outputs": [
    {
     "name": "stdout",
     "output_type": "stream",
     "text": [
      "\r",
      "Classifier 1 completed."
     ]
    }
   ],
   "source": [
    "btc = LogisticRegressionClassifier(1)\n",
    "btc.fit(X_train, y_train)\n",
    "y_hat = 1.0 * (btc.predict(X_test)>0.5)"
   ]
  },
  {
   "cell_type": "code",
   "execution_count": 6,
   "metadata": {},
   "outputs": [
    {
     "data": {
      "text/plain": [
       "array([[2.10598612e-01, 5.96824045e-01, 5.06187386e-01, 6.98488876e-02,\n",
       "        1.72732876e-01, 1.14424978e+00, 4.69958948e-01, 1.24308110e-01,\n",
       "        5.39905051e-01, 4.50232780e-01, 1.78666029e-01, 1.38006031e-01,\n",
       "        3.19516663e-01, 6.94285442e-01, 7.90510238e-01, 7.99581711e-01,\n",
       "        3.91811432e-01, 1.43413276e+00, 1.95429870e+00, 1.53205126e+00,\n",
       "        7.81562483e-01, 5.48376872e-01, 2.79401678e-01, 1.25133795e+00,\n",
       "        6.37731671e-03, 1.20442313e+00, 1.51901561e+00, 7.31409660e-01,\n",
       "        1.66890152e+00, 1.09774900e+00, 4.18224217e-01, 2.00502955e+00,\n",
       "        1.37184826e+00, 1.18748410e+00, 1.16277122e+00, 1.45111405e+00,\n",
       "        1.27056674e+00, 1.53361490e+00, 3.33686838e+00, 1.05901520e+00,\n",
       "        1.01357779e+00, 2.03867024e+00, 1.88779993e+00, 9.71722165e-01,\n",
       "        1.31671282e+00, 1.71590240e+00, 5.03550052e-01, 1.22616452e+00,\n",
       "        1.11507305e+00, 1.08136973e+00, 6.35599211e-01, 1.92617972e+00,\n",
       "        1.18290467e+00, 1.14409924e+00, 2.22917830e-01, 1.08768854e+00,\n",
       "        4.96229779e-01, 2.22433679e-01, 2.24158140e-01, 9.68795887e-01,\n",
       "        8.92978750e-01, 1.59979106e+00, 2.77104041e+00, 6.85842132e-01,\n",
       "        5.63910024e-01, 2.15934205e+00, 9.03363533e-01, 1.24428597e+00,\n",
       "        3.28507097e-01, 6.16248093e-01, 4.37005062e-01, 7.66392895e-01,\n",
       "        2.44105354e-01, 0.00000000e+00, 0.00000000e+00, 0.00000000e+00,\n",
       "        4.45826195e-01, 9.69930733e-01, 1.11138884e+00, 6.73159566e-01,\n",
       "        9.35207868e-01, 0.00000000e+00, 0.00000000e+00, 0.00000000e+00,\n",
       "        3.41674553e-01, 4.34400159e-02, 2.32351512e-01, 1.43065573e-02,\n",
       "        1.45348745e-04, 1.55526273e-01, 7.53939626e-02, 4.19692240e-01,\n",
       "        4.80491880e-01, 3.48080268e-01, 8.83807167e-01, 2.14107296e-02,\n",
       "        6.28601336e-01, 3.68201866e-01, 5.89744478e-02, 8.18655603e-01,\n",
       "        1.74137702e-01, 1.79267164e+00, 8.68277162e-01, 5.17713169e-01,\n",
       "        9.15435538e-02, 6.03787486e-01, 1.18196739e+00, 6.07463728e-01,\n",
       "        4.43954486e-01, 3.03094862e-01, 6.40997567e-01, 1.56630438e-01,\n",
       "        5.46340026e-01, 2.42547182e-01, 3.55268060e-01, 3.45647715e-01,\n",
       "        1.50192395e-01, 4.61341107e-01, 2.80689338e-01, 6.62884828e-01,\n",
       "        9.26062235e-01, 2.94867624e-01, 0.00000000e+00, 3.33084576e-01,\n",
       "        6.37032860e-01, 1.38722260e-01, 5.71082202e-01, 1.79783317e-01,\n",
       "        2.06209603e-01, 2.52531426e-01, 2.55162415e-01, 2.63378320e-01,\n",
       "        1.76530791e-01, 4.13920868e-01, 1.74379001e-01, 2.61513436e-01,\n",
       "        5.57078432e-01, 7.00384678e-02, 3.16169667e-01, 1.97346413e-01,\n",
       "        5.68370756e-04, 1.97643753e-01, 3.47626573e-01, 2.16273802e-01,\n",
       "        2.29958797e-01, 2.85565746e-01, 5.71004899e-02, 1.01767645e-01,\n",
       "        2.96919770e-01, 3.17981518e-01, 4.09065832e-01, 0.00000000e+00,\n",
       "        3.35160801e-01, 6.81076597e-01, 1.43167739e-02, 2.59396131e-01,\n",
       "        6.69998062e-03, 1.02981961e-01, 3.03677485e-01, 2.81232634e-01,\n",
       "        2.33134945e-01, 6.84557168e-02, 2.07348598e-02, 6.64696657e-01,\n",
       "        2.73187721e-01, 4.21827771e-01, 2.39576739e-01, 2.99125856e-02,\n",
       "        1.10594160e-02, 5.89675269e-01, 3.24945854e-01, 4.40671341e-02,\n",
       "        1.85185676e-01, 0.00000000e+00, 4.05175664e-01, 3.30662981e-01,\n",
       "        2.20494275e-01, 1.87427537e-01, 2.46671363e-01, 3.02809713e-01,\n",
       "        7.78796144e-02, 7.08111770e-01, 1.50928638e-03, 4.72542506e-01,\n",
       "        1.93704673e-01, 2.55021609e-01, 2.42292811e-02, 1.10051031e+00,\n",
       "        6.14163293e-01, 7.67459984e-01, 7.90706781e-02, 5.95663929e-01,\n",
       "        2.54239443e-01, 1.54113819e-01, 4.72322576e-01, 8.13317570e-01,\n",
       "        0.00000000e+00, 3.50148887e-01, 2.56211881e-01, 8.96568021e-01,\n",
       "        3.75852354e-01, 8.05601501e-01, 3.45345139e-01, 1.46655393e-01,\n",
       "        7.95914607e-02, 0.00000000e+00, 8.49122867e-01, 1.64481082e-01,\n",
       "        4.78174515e-01, 3.13065817e-01, 1.32201773e+00, 0.00000000e+00,\n",
       "        6.55347084e-01, 4.25070462e-01, 0.00000000e+00, 1.32732722e-02,\n",
       "        8.19801984e-01, 4.13106365e-01, 1.25704934e+00, 1.48162988e-02,\n",
       "        0.00000000e+00, 6.38255791e-01, 1.10387433e-02, 6.45502892e-01,\n",
       "        6.48824111e-02, 7.94536767e-01]])"
      ]
     },
     "execution_count": 6,
     "metadata": {},
     "output_type": "execute_result"
    }
   ],
   "source": [
    "btc.coefficients()"
   ]
  },
  {
   "cell_type": "code",
   "execution_count": 8,
   "metadata": {},
   "outputs": [],
   "source": [
    "reshaped_cof = pd.DataFrame(btc.coefficients().reshape(-1,1))\n",
    "predictors = pd.DataFrame(df.columns)\n",
    "predictors_final = predictors.drop(predictors.index[0], axis=0)\n",
    "predictors_final.index = np.arange(1,len(predictors_final)+1)\n",
    "reshaped_cof.index =  np.arange(1,len(reshaped_cof)+1)"
   ]
  },
  {
   "cell_type": "code",
   "execution_count": 9,
   "metadata": {},
   "outputs": [],
   "source": [
    "coefficient_tb1= pd.concat([predictors_final,reshaped_cof], axis=1, ignore_index=True)\n",
    "coefficient_tb2 = coefficient_tb1.rename(columns={0: \"Predictor\", 1: \"Coefficient\"})\n",
    "coefficient_tb_final = coefficient_tb2.sort_values(by=[\"Coefficient\"],ascending=False)\n",
    "coefficient_tb_final.head(10)\n",
    "coefficient_tb_final.to_csv('coefficient_tb_final.csv')"
   ]
  },
  {
   "cell_type": "code",
   "execution_count": 22,
   "metadata": {
    "scrolled": true
   },
   "outputs": [
    {
     "name": "stdout",
     "output_type": "stream",
     "text": [
      "              precision    recall  f1-score   support\n",
      "\n",
      "           0       1.00      0.94      0.97     87390\n",
      "           1       0.50      0.93      0.65      5269\n",
      "\n",
      "    accuracy                           0.94     92659\n",
      "   macro avg       0.75      0.94      0.81     92659\n",
      "weighted avg       0.97      0.94      0.95     92659\n",
      "\n"
     ]
    }
   ],
   "source": [
    "print(classification_report(y_true=y_test, y_pred=y_hat))"
   ]
  },
  {
   "cell_type": "code",
   "execution_count": 11,
   "metadata": {},
   "outputs": [
    {
     "data": {
      "text/plain": [
       "0.6495376486129458"
      ]
     },
     "execution_count": 11,
     "metadata": {},
     "output_type": "execute_result"
    }
   ],
   "source": [
    "f1_score(y_true=y_test, y_pred=y_hat)"
   ]
  },
  {
   "cell_type": "code",
   "execution_count": 12,
   "metadata": {},
   "outputs": [
    {
     "data": {
      "text/plain": [
       "0.9427362695474806"
      ]
     },
     "execution_count": 12,
     "metadata": {},
     "output_type": "execute_result"
    }
   ],
   "source": [
    "accuracy_score(y_true=y_test, y_pred=y_hat)"
   ]
  },
  {
   "cell_type": "code",
   "execution_count": 13,
   "metadata": {},
   "outputs": [
    {
     "data": {
      "text/plain": [
       "array([[82436,  4954],\n",
       "       [  352,  4917]])"
      ]
     },
     "execution_count": 13,
     "metadata": {},
     "output_type": "execute_result"
    }
   ],
   "source": [
    "confusion_matrix(y_true=y_test, y_pred=y_hat)"
   ]
  },
  {
   "cell_type": "code",
   "execution_count": 123,
   "metadata": {},
   "outputs": [
    {
     "data": {
      "text/html": [
       "<div>\n",
       "<style scoped>\n",
       "    .dataframe tbody tr th:only-of-type {\n",
       "        vertical-align: middle;\n",
       "    }\n",
       "\n",
       "    .dataframe tbody tr th {\n",
       "        vertical-align: top;\n",
       "    }\n",
       "\n",
       "    .dataframe thead th {\n",
       "        text-align: right;\n",
       "    }\n",
       "</style>\n",
       "<table border=\"1\" class=\"dataframe\">\n",
       "  <thead>\n",
       "    <tr style=\"text-align: right;\">\n",
       "      <th></th>\n",
       "      <th>Predictor</th>\n",
       "      <th>Coefficient</th>\n",
       "    </tr>\n",
       "  </thead>\n",
       "  <tbody>\n",
       "    <tr>\n",
       "      <td>46</td>\n",
       "      <td>CVASC_Other_Nos_B</td>\n",
       "      <td>51.422538</td>\n",
       "    </tr>\n",
       "    <tr>\n",
       "      <td>102</td>\n",
       "      <td>FGENT_Screening</td>\n",
       "      <td>53.723175</td>\n",
       "    </tr>\n",
       "    <tr>\n",
       "      <td>43</td>\n",
       "      <td>CVASC_Heart_Rhythm_B</td>\n",
       "      <td>56.574000</td>\n",
       "    </tr>\n",
       "    <tr>\n",
       "      <td>52</td>\n",
       "      <td>CVASC_Venous_B</td>\n",
       "      <td>57.724174</td>\n",
       "    </tr>\n",
       "    <tr>\n",
       "      <td>19</td>\n",
       "      <td>CHEST_Airway_Lungs_B</td>\n",
       "      <td>58.566850</td>\n",
       "    </tr>\n",
       "    <tr>\n",
       "      <td>32</td>\n",
       "      <td>CHEST_Status_A</td>\n",
       "      <td>60.087163</td>\n",
       "    </tr>\n",
       "    <tr>\n",
       "      <td>42</td>\n",
       "      <td>CVASC_Heart_Rhythm_A</td>\n",
       "      <td>61.095315</td>\n",
       "    </tr>\n",
       "    <tr>\n",
       "      <td>66</td>\n",
       "      <td>ENDOC_MET_Diabetes</td>\n",
       "      <td>64.711634</td>\n",
       "    </tr>\n",
       "    <tr>\n",
       "      <td>63</td>\n",
       "      <td>DERMA_Whole_Body_Nos_B</td>\n",
       "      <td>83.043144</td>\n",
       "    </tr>\n",
       "    <tr>\n",
       "      <td>39</td>\n",
       "      <td>CVASC_Cardiac_B</td>\n",
       "      <td>100.000000</td>\n",
       "    </tr>\n",
       "  </tbody>\n",
       "</table>\n",
       "</div>"
      ],
      "text/plain": [
       "                  Predictor  Coefficient\n",
       "46        CVASC_Other_Nos_B    51.422538\n",
       "102         FGENT_Screening    53.723175\n",
       "43     CVASC_Heart_Rhythm_B    56.574000\n",
       "52           CVASC_Venous_B    57.724174\n",
       "19     CHEST_Airway_Lungs_B    58.566850\n",
       "32           CHEST_Status_A    60.087163\n",
       "42     CVASC_Heart_Rhythm_A    61.095315\n",
       "66       ENDOC_MET_Diabetes    64.711634\n",
       "63   DERMA_Whole_Body_Nos_B    83.043144\n",
       "39          CVASC_Cardiac_B   100.000000"
      ]
     },
     "execution_count": 123,
     "metadata": {},
     "output_type": "execute_result"
    }
   ],
   "source": [
    "import matplotlib as mpl\n",
    "import matplotlib.pyplot as plt\n",
    "feature_importance = abs(coefficient_tb_final[coefficient_tb_final.columns[1]])\n",
    "feature_importance = 100.0 * (feature_importance / feature_importance.max())\n",
    "score = feature_importance.head(10)\n",
    "predictors_10 = coefficient_tb_final[coefficient_tb_final.columns[0]].head(10)\n",
    "feature_importance_table = pd.concat([predictors_10,score], axis=1)\n",
    "feature_importance_table\n",
    "feature_importance_table_desc = feature_importance_table.sort_values(by=[\"Coefficient\"],ascending=True)\n",
    "feature_importance_table_desc"
   ]
  },
  {
   "cell_type": "code",
   "execution_count": 124,
   "metadata": {},
   "outputs": [
    {
     "data": {
      "image/png": "[encoded data removed]",
      "text/plain": [
       "<Figure size 720x432 with 1 Axes>"
      ]
     },
     "metadata": {
      "needs_background": "light"
     },
     "output_type": "display_data"
    }
   ],
   "source": [
    "fig = plt.figure(figsize=(10,6))\n",
    "\n",
    "share = feature_importance_table_desc[feature_importance_table_desc.columns[1]]\n",
    "plt.barh(range(10), share, align = 'center',color='steelblue', alpha = 0.8)\n",
    "\n",
    "plt.yticks(range(10),feature_importance_table_desc[feature_importance_table_desc.columns[0]], fontsize=12)\n",
    "ax.set_xlabel('Relative Feature Importance (%)')\n",
    "\n",
    "#plt.tight_layout()   \n",
    "plt.show()"
   ]
  }
 ],
 "metadata": {
  "kernelspec": {
   "display_name": "Python 3",
   "language": "python",
   "name": "python3"
  },
  "language_info": {
   "codemirror_mode": {
    "name": "ipython",
    "version": 3
   },
   "file_extension": ".py",
   "mimetype": "text/x-python",
   "name": "python",
   "nbconvert_exporter": "python",
   "pygments_lexer": "ipython3",
   "version": "3.7.3"
  }
 },
 "nbformat": 4,
 "nbformat_minor": 2
}
