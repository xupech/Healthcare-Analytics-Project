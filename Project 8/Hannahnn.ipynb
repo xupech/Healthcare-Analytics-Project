{
 "cells": [
  {
   "cell_type": "markdown",
   "metadata": {},
   "source": [
    "## Neural network"
   ]
  },
  {
   "cell_type": "code",
   "execution_count": 1,
   "metadata": {},
   "outputs": [],
   "source": [
    "import numpy as np\n",
    "import pandas as pd\n",
    "from functools import reduce\n",
    "from sklearn.metrics import confusion_matrix, accuracy_score, f1_score, classification_report\n",
    "from sklearn.tree import DecisionTreeClassifier\n",
    "from sklearn.model_selection import train_test_split\n",
    "from sklearn.neural_network import MLPClassifier"
   ]
  },
  {
   "cell_type": "code",
   "execution_count": 2,
   "metadata": {},
   "outputs": [],
   "source": [
    "import os \n",
    "os.chdir ('/Users/hainayan/Downloads')\n",
    "df = pd.read_csv('final result.csv')\n",
    "df = df[df.columns[2:-1].to_list()]\n",
    "X = df[df.columns[1:]].values\n",
    "y = df['Mortality (1= death)'].values\n",
    "X_train, X_test, y_train, y_test = train_test_split(X, y, test_size=0.25, random_state=0)"
   ]
  },
  {
   "cell_type": "code",
   "execution_count": 3,
   "metadata": {},
   "outputs": [],
   "source": [
    "class BaggingTreeClassifier:\n",
    "\n",
    "    def __init__(self, n=100):\n",
    "        self.n = n\n",
    "\n",
    "    def fit(self, X, y, random_state=42, criterion='entropy'):\n",
    "        X_train_p = X[y==1]\n",
    "        X_train_n = X[y==0]\n",
    "        y_train_p = y[y==1]\n",
    "        y_train_n = y[y==0]\n",
    "        l = sum(y_train_p)\n",
    "        clf_list = []\n",
    "        np.random.seed(seed=random_state)\n",
    "        for i in range(self.n):\n",
    "            idx_n = np.random.choice(range(X_train_n.shape[0]), l)\n",
    "            idx_p = np.random.choice(range(X_train_p.shape[0]), l)\n",
    "            X_train_f = np.concatenate([X_train_n[idx_n, :], X_train_p[idx_p]])\n",
    "            y_train_f = np.concatenate([y_train_n[idx_n], y_train_p[idx_p]])\n",
    "            clf = MLPClassifier(solver = 'lbfgs',random_state=0)\n",
    "            clf.fit(X_train_f, y_train_f)\n",
    "            clf_list.append(clf)\n",
    "            print(f'\\rClassifier {i+1} completed.', end='')\n",
    "        self.clfs = clf_list        \n",
    "        \n",
    "    def predict(self, X):\n",
    "        result_list = list(map(lambda clf: clf.predict_proba(X)[:,1], self.clfs))\n",
    "        score = reduce(lambda a, b: a+b, result_list) / len(self.clfs)\n",
    "        return score\n",
    "        \n",
    "    def report(self, X, y):\n",
    "        y_hat = self.predict(X)\n",
    "        print(classification_report(y_test, 1.*(y_hat>0.5)))"
   ]
  },
  {
   "cell_type": "code",
   "execution_count": 25,
   "metadata": {},
   "outputs": [
    {
     "name": "stdout",
     "output_type": "stream",
     "text": [
      "Classifier 500 completed."
     ]
    }
   ],
   "source": [
    "btc = BaggingTreeClassifier(500)\n",
    "btc.fit(X_train, y_train)\n",
    "y_hat = 1.0 * (btc.predict(X_test)>0.5)"
   ]
  },
  {
   "cell_type": "code",
   "execution_count": 27,
   "metadata": {
    "scrolled": true
   },
   "outputs": [
    {
     "name": "stdout",
     "output_type": "stream",
     "text": [
      "              precision    recall  f1-score   support\n",
      "\n",
      "           0       0.99      0.96      0.97     10477\n",
      "           1       0.56      0.90      0.69       641\n",
      "\n",
      "    accuracy                           0.95     11118\n",
      "   macro avg       0.78      0.93      0.83     11118\n",
      "weighted avg       0.97      0.95      0.96     11118\n",
      "\n"
     ]
    }
   ],
   "source": [
    "print(classification_report(y_true=y_test, y_pred=y_hat))"
   ]
  },
  {
   "cell_type": "code",
   "execution_count": 28,
   "metadata": {},
   "outputs": [
    {
     "data": {
      "text/plain": [
       "0.6893667861409798"
      ]
     },
     "execution_count": 28,
     "metadata": {},
     "output_type": "execute_result"
    }
   ],
   "source": [
    "f1_score(y_true=y_test, y_pred=y_hat)"
   ]
  },
  {
   "cell_type": "code",
   "execution_count": 31,
   "metadata": {},
   "outputs": [
    {
     "data": {
      "text/plain": [
       "0.9532289980212268"
      ]
     },
     "execution_count": 31,
     "metadata": {},
     "output_type": "execute_result"
    }
   ],
   "source": [
    "accuracy_score(y_true=y_test, y_pred=y_hat)"
   ]
  },
  {
   "cell_type": "code",
   "execution_count": 32,
   "metadata": {},
   "outputs": [
    {
     "data": {
      "text/plain": [
       "array([[10021,   456],\n",
       "       [   64,   577]])"
      ]
     },
     "execution_count": 32,
     "metadata": {},
     "output_type": "execute_result"
    }
   ],
   "source": [
    "confusion_matrix(y_true=y_test, y_pred=y_hat)"
   ]
  },
  {
   "cell_type": "code",
   "execution_count": null,
   "metadata": {},
   "outputs": [],
   "source": []
  },
  {
   "cell_type": "code",
   "execution_count": null,
   "metadata": {},
   "outputs": [],
   "source": []
  }
 ],
 "metadata": {
  "kernelspec": {
   "display_name": "Python 3",
   "language": "python",
   "name": "python3"
  },
  "language_info": {
   "codemirror_mode": {
    "name": "ipython",
    "version": 3
   },
   "file_extension": ".py",
   "mimetype": "text/x-python",
   "name": "python",
   "nbconvert_exporter": "python",
   "pygments_lexer": "ipython3",
   "version": "3.7.0"
  }
 },
 "nbformat": 4,
 "nbformat_minor": 2
}
